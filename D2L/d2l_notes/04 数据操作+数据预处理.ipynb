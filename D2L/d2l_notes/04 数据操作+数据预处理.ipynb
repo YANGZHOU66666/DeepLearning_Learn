{
 "cells": [
  {
   "cell_type": "markdown",
   "metadata": {},
   "source": [
    "# 04 数据操作+数据预处理\n",
    "\n",
    "## 常规矩阵操作 tensor\n",
    "\n",
    "### 创建张量\n"
   ]
  },
  {
   "cell_type": "code",
   "execution_count": 10,
   "metadata": {},
   "outputs": [
    {
     "data": {
      "text/plain": [
       "(tensor([ 0,  1,  2,  3,  4,  5,  6,  7,  8,  9, 10, 11]),\n",
       " tensor([0., 0., 0., 0., 0., 0., 0., 0., 0., 0., 0., 0.]),\n",
       " tensor([[[1., 1., 1., 1.],\n",
       "          [1., 1., 1., 1.],\n",
       "          [1., 1., 1., 1.]],\n",
       " \n",
       "         [[1., 1., 1., 1.],\n",
       "          [1., 1., 1., 1.],\n",
       "          [1., 1., 1., 1.]]]),\n",
       " tensor([[-1.4397, -0.1033, -1.1628,  1.5154],\n",
       "         [-1.6699,  1.1434,  1.6220, -0.8131],\n",
       "         [-0.5327,  0.9932,  0.5888, -1.4618]]),\n",
       " tensor([[2, 1, 4, 3],\n",
       "         [1, 2, 3, 4],\n",
       "         [4, 3, 2, 1]]))"
      ]
     },
     "execution_count": 10,
     "metadata": {},
     "output_type": "execute_result"
    }
   ],
   "source": [
    "import torch # type: ignore\n",
    "x = torch.arange(12) # tensor([ 0,  1,  2,  3,  4,  5,  6,  7,  8,  9, 10, 11])\n",
    "z = torch.zeros(12) # 全是0,形状为(12)\n",
    "o = torch.ones(2,3,4) # 全是1,形状为(2,3,4)\n",
    "r = torch.randn(3, 4) # 创建一个形状为（3,4）的张量。 其中的每个元素都从均值为0、标准差为1的标准高斯分布（正态分布）中随机采样。\n",
    "t = torch.tensor([[2, 1, 4, 3], [1, 2, 3, 4], [4, 3, 2, 1]]) # 直接创建\n",
    "x, z, o, r, t"
   ]
  },
  {
   "cell_type": "markdown",
   "metadata": {},
   "source": [
    "### 创建张量(续)"
   ]
  },
  {
   "cell_type": "code",
   "execution_count": 11,
   "metadata": {},
   "outputs": [
    {
     "data": {
      "text/plain": [
       "tensor([[-0.7203, -1.1268,  0.8621, -1.9318],\n",
       "        [-2.8751,  0.8117,  0.2940, -0.0852],\n",
       "        [-0.8551,  0.8527,  1.5955, -0.1183]])"
      ]
     },
     "execution_count": 11,
     "metadata": {},
     "output_type": "execute_result"
    }
   ],
   "source": [
    "# torch.normal: 指定平均值、标准差、形状\n",
    "n = torch.normal(0, 1, size=(3, 4))\n",
    "n"
   ]
  },
  {
   "cell_type": "markdown",
   "metadata": {},
   "source": [
    "### 张量的属性"
   ]
  },
  {
   "cell_type": "code",
   "execution_count": 12,
   "metadata": {},
   "outputs": [
    {
     "data": {
      "text/plain": [
       "(torch.Size([12]), 12)"
      ]
     },
     "execution_count": 12,
     "metadata": {},
     "output_type": "execute_result"
    }
   ],
   "source": [
    "shape = x.shape # x的形状(维数,每维的长度) ，这里torch.Size([12])\n",
    "numel = x.numel() # 张量中元素总数,这里为12\n",
    "shape, numel"
   ]
  },
  {
   "cell_type": "markdown",
   "metadata": {},
   "source": [
    "\n",
    "### 张量操作\n",
    "\n",
    "+ reshape：改变张量形状"
   ]
  },
  {
   "cell_type": "code",
   "execution_count": 13,
   "metadata": {},
   "outputs": [
    {
     "data": {
      "text/plain": [
       "tensor([[[ 0,  1],\n",
       "         [ 2,  3]],\n",
       "\n",
       "        [[ 4,  5],\n",
       "         [ 6,  7]],\n",
       "\n",
       "        [[ 8,  9],\n",
       "         [10, 11]]])"
      ]
     },
     "execution_count": 13,
     "metadata": {},
     "output_type": "execute_result"
    }
   ],
   "source": [
    "x2 = x.reshape(3,2,2) # 改变张量形状, 三个数必须满足乘积和元素总数一样\n",
    "x2"
   ]
  },
  {
   "cell_type": "markdown",
   "metadata": {},
   "source": [
    "+ sum：元素求和"
   ]
  },
  {
   "cell_type": "code",
   "execution_count": 14,
   "metadata": {},
   "outputs": [
    {
     "data": {
      "text/plain": [
       "tensor(66)"
      ]
     },
     "execution_count": 14,
     "metadata": {},
     "output_type": "execute_result"
    }
   ],
   "source": [
    "s = x.sum()\n",
    "s"
   ]
  },
  {
   "cell_type": "markdown",
   "metadata": {},
   "source": [
    "可以按轴求和：按哪个维度求和，哪个维度就没了"
   ]
  },
  {
   "cell_type": "code",
   "execution_count": 15,
   "metadata": {},
   "outputs": [
    {
     "data": {
      "text/plain": [
       "tensor([[12, 15],\n",
       "        [18, 21]])"
      ]
     },
     "execution_count": 15,
     "metadata": {},
     "output_type": "execute_result"
    }
   ],
   "source": [
    "s_x = x2.sum(axis=0)\n",
    "s_x"
   ]
  },
  {
   "cell_type": "markdown",
   "metadata": {},
   "source": [
    "### 运算符\n",
    "\n",
    "按每个元素分别计算：\n",
    "\n"
   ]
  },
  {
   "cell_type": "code",
   "execution_count": 16,
   "metadata": {},
   "outputs": [
    {
     "data": {
      "text/plain": [
       "(tensor([3, 4, 5, 6]),\n",
       " tensor([-1,  0,  1,  2]),\n",
       " tensor([ 2.7183,  7.3891, 20.0855, 54.5981]),\n",
       " tensor([False,  True, False, False]))"
      ]
     },
     "execution_count": 16,
     "metadata": {},
     "output_type": "execute_result"
    }
   ],
   "source": [
    "x = torch.tensor([1,2,3,4])\n",
    "y = torch.tensor([2,2,2,2])\n",
    "plus = x + y # tensor([3,4,5,6])\n",
    "minus = x - y # tensor([-1,0,1,2])\n",
    "exp = torch.exp(x) # 计算每个元素的e指数\n",
    "equal = x == y # 结果是每个位置元素的相等情况\n",
    "plus, minus, exp, equal"
   ]
  },
  {
   "cell_type": "markdown",
   "metadata": {},
   "source": [
    "等等"
   ]
  },
  {
   "cell_type": "markdown",
   "metadata": {},
   "source": [
    "\n",
    "### 广播机制\n",
    "\n",
    "当两个矩阵维数不一致时，会触发广播机制"
   ]
  },
  {
   "cell_type": "code",
   "execution_count": 17,
   "metadata": {},
   "outputs": [
    {
     "data": {
      "text/plain": [
       "tensor([[0, 1],\n",
       "        [1, 2],\n",
       "        [2, 3]])"
      ]
     },
     "execution_count": 17,
     "metadata": {},
     "output_type": "execute_result"
    }
   ],
   "source": [
    "a = torch.arange(3).reshape((3, 1)) # [[0],[1],[2]]^T\n",
    "b = torch.arange(2).reshape((1, 2)) # [[0],[1]]\n",
    "a + b\n"
   ]
  },
  {
   "cell_type": "markdown",
   "metadata": {},
   "source": [
    "### 索引和切片\n",
    "\n",
    "各维度之间由逗号分隔"
   ]
  },
  {
   "cell_type": "code",
   "execution_count": 18,
   "metadata": {},
   "outputs": [
    {
     "data": {
      "text/plain": [
       "tensor([[12, 12,  2,  3],\n",
       "        [12, 12,  6,  7],\n",
       "        [12, 12, 10, 11]])"
      ]
     },
     "execution_count": 18,
     "metadata": {},
     "output_type": "execute_result"
    }
   ],
   "source": [
    "a = torch.arange(12).reshape(3,4)\n",
    "a[1,2] # 访问一个元素\n",
    "a[0:1,1:4] # 访问一个区域\n",
    "a[::2,::2] # 带有步长\n",
    "\n",
    "# 也可以给一片区域/一个位置赋值:\n",
    "a[:,0:2] = 12 # 给所有行的0-1列赋值12\n",
    "a"
   ]
  }
 ],
 "metadata": {
  "kernelspec": {
   "display_name": "pytorch_env",
   "language": "python",
   "name": "python3"
  },
  "language_info": {
   "codemirror_mode": {
    "name": "ipython",
    "version": 3
   },
   "file_extension": ".py",
   "mimetype": "text/x-python",
   "name": "python",
   "nbconvert_exporter": "python",
   "pygments_lexer": "ipython3",
   "version": "3.9.18"
  }
 },
 "nbformat": 4,
 "nbformat_minor": 2
}
