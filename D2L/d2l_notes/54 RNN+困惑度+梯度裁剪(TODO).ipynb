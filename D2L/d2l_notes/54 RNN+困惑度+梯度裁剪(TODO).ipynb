{
 "cells": [
  {
   "cell_type": "markdown",
   "metadata": {},
   "source": [
    "# 54 RNN 循环神经网络\n",
    "\n",
    "根据前一隐藏状态$h_{t-1}$以及观察$x_{t-1}$，计算当前的隐藏状态$h_t$。根据当前的隐藏状态$h_t$，计算当前的输出$o_t$。\n",
    "\n",
    "![](./assets/rnn_1.jpg)\n",
    "\n",
    "更新隐藏状态：$h_t = \\phi(W_{hh}h_{t-1} + W_{xh}x_{t-1}+b_h)$，这里去掉$W_{hh}h_{t-1}$就变成了MLP\n",
    "\n",
    "输出：$o_t = \\phi(W_{ho}h_t + b_o)$ （这里的$\\phi$是激活函数）\n",
    "\n",
    "以下模拟了使用t时刻的输出作为t+1时刻的输入以预测下一个字符的过程：\n",
    "\n",
    "![](./assets/rnn_2.jpg)"
   ]
  },
  {
   "cell_type": "markdown",
   "metadata": {
    "vscode": {
     "languageId": "plaintext"
    }
   },
   "source": [
    "## 困惑度\n",
    "\n",
    "衡量一个语言模型的好坏，可以使用交叉熵：（这是因为，语言模型可以看作分类问题，其中的类别是词表中的词）\n",
    "\n",
    "$ \\pi = \\frac{1}{n}\\sum_{i=1}^{n}{-\\log{p(x_i|x_{i-1},...)}} $\n",
    "\n",
    "困惑度：$exp(\\pi)$，1表示最好，无穷大是最差情况。"
   ]
  },
  {
   "cell_type": "markdown",
   "metadata": {},
   "source": [
    "## 梯度裁剪\n",
    "\n",
    "当RNN已经经过T个时间步的迭代，反向传播时产生O(T)长度的矩阵乘法链，导致梯度不稳定，容易产生梯度爆炸\n",
    "\n",
    "梯度剪裁可以解决梯度爆炸的问题\n",
    "\n",
    "思路：当累计梯度长度大于$\\theta$时，将梯度长度拖影为长度$\\theta$，保证梯度不会太大。\n",
    "\n",
    "$ g ← min(1,\\frac{\\theta}{|g|})$"
   ]
  }
 ],
 "metadata": {
  "language_info": {
   "name": "python"
  }
 },
 "nbformat": 4,
 "nbformat_minor": 2
}
