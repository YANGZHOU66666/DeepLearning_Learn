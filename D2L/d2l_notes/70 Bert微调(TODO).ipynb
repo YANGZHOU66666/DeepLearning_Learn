{
 "cells": [
  {
   "cell_type": "markdown",
   "metadata": {},
   "source": [
    "# 70 Bert微调\n",
    "\n",
    "Bert对每个词元返回抽取了上下文信息的特征向量\n",
    "\n",
    "不同的任务使用不同的特性\n",
    "\n",
    "只需要改Encoder后的输出层\n",
    "\n",
    "![](./assets/bert_2.jpg)\n",
    "\n",
    "## Bert微调的任务\n",
    "\n",
    "### 文本分类\n",
    "\n",
    "将\\<cls>对应的Bert输出向量放入分类器中分类\n",
    "\n",
    "![](./assets/bert_3.jpg)"
   ]
  },
  {
   "cell_type": "markdown",
   "metadata": {},
   "source": [
    "### 命名实体识别\n",
    "\n",
    "识别一个词元是不是命名实体，比如人名、机构、位置\n",
    "\n",
    "将非特殊词元(不是\\<cls>、\\<sep>的等)放进全连接层分类\n",
    "\n",
    "![](./assets/bert_4.jpg)"
   ]
  },
  {
   "cell_type": "markdown",
   "metadata": {},
   "source": [
    "### 问题回答\n",
    "\n",
    "给定①一个问题，和②一段描述性文字，找出一个片段作为回答\n",
    "\n",
    "对片段中的每个词元预测它是不是回答的开始或结束\n",
    "\n",
    "![](./assets/bert_5.jpg)"
   ]
  }
 ],
 "metadata": {
  "kernelspec": {
   "display_name": "D2L_GPU_ENV",
   "language": "python",
   "name": "python3"
  },
  "language_info": {
   "name": "python",
   "version": "3.9.21"
  }
 },
 "nbformat": 4,
 "nbformat_minor": 2
}
