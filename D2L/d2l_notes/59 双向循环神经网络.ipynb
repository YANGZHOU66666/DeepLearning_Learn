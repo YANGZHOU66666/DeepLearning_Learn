{
 "cells": [
  {
   "cell_type": "markdown",
   "metadata": {},
   "source": [
    "# 59 双向循环神经网络\n",
    "\n",
    "+ 未来很重要：\n",
    "\n",
    "取决于过去和未来的上下文，可以填不同的值\n",
    "\n",
    "I am very `happy`.\n",
    "\n",
    "I am `not` very hungry.\n",
    "\n",
    "I am `very` very hungry, I could eat half a pig.\n",
    "\n",
    "目前为止，RNN只看过去\n",
    "\n",
    "在填空时，未来也很重要\n",
    "\n",
    "## 双向循环神经网络的结构\n",
    "\n",
    "![](./assets/bidirectional_rnn.jpg)\n",
    "\n",
    "每个位置有正向和反向的隐藏状态，输出由两个隐藏状态共同决定。\n",
    "\n",
    "$ \\overrightarrow{H}_t = \\sigma(W_{xh} x_t + W_{hh} \\overrightarrow{H}_{t-1} + b_h) $\n",
    "\n",
    "$ \\overleftarrow{H}_t = \\sigma(W_{xh} x_t + W_{hh} \\overleftarrow{H}_{t+1} + b_h) $\n",
    "\n",
    "$ H_t = [ \\overrightarrow{H}_t; \\overleftarrow{H}_t ] $\n",
    "\n",
    "$ O_t = W_{ho} H_t + b_o $\n",
    "\n",
    "+ 通常用来对序列抽取特征、填空，不能用来预测未来"
   ]
  }
 ],
 "metadata": {
  "language_info": {
   "name": "python"
  }
 },
 "nbformat": 4,
 "nbformat_minor": 2
}
