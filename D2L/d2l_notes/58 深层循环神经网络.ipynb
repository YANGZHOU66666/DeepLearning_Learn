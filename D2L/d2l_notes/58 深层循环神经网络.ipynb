{
 "cells": [
  {
   "cell_type": "markdown",
   "metadata": {
    "vscode": {
     "languageId": "plaintext"
    }
   },
   "source": [
    "# 58 深层循环神经网络\n",
    "\n",
    "在普通RNN的基础上引入多层隐藏层，每个隐藏层$H_{ij}$的值由上一层该位置的隐藏层的值$H_{(i-1)j}$和该层靠近输入的隐藏层的值$H_{i(j-1)}$共同决定。每层的离输入最远的隐藏层决定该层的输出$O_i$\n",
    "\n",
    "![](./assets/deep_rnn.jpg)\n",
    "\n",
    "$ H_t^1 = f_1(X_t, H_{t-1}^1) $\n",
    "\n",
    "$ H_t^j = f_j(H_t^{j-1}, H_{t-1}^j) $\n",
    "\n",
    "$ O_t = g(H_t^L) $\n",
    "\n",
    "每个隐藏层的计算都有两个W和一个b，参数量十分庞大"
   ]
  }
 ],
 "metadata": {
  "language_info": {
   "name": "python"
  }
 },
 "nbformat": 4,
 "nbformat_minor": 2
}
