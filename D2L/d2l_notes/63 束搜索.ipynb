{
 "cells": [
  {
   "cell_type": "markdown",
   "metadata": {},
   "source": [
    "# 63 束搜索\n",
    "\n",
    "## 贪心搜索\n",
    "\n",
    "概念：每次都选概率最大的。\n",
    "\n",
    "可能不是全局最优，如下图：\n",
    "\n",
    "![](./assets/beam_search_1.jpg)\n",
    "![](./assets/beam_search_2.jpg)"
   ]
  },
  {
   "cell_type": "markdown",
   "metadata": {},
   "source": [
    "## 穷举搜索\n",
    "\n",
    "概念：对所有可能的序列均枚举一遍，取概率最大的那个\n",
    "\n",
    "如果目标序列字典大小为n，序列最长为T，则穷举搜索的时间复杂度为$O(n^T)$。不可行"
   ]
  },
  {
   "cell_type": "markdown",
   "metadata": {},
   "source": [
    "## 束搜索\n",
    "\n",
    "保存最好的k个候选\n",
    "\n",
    "在每个时间步，对每个候选新加一项（n种可能），在kn个选项中选出最优的k个\n",
    "\n",
    "重复以上过程，直到达到预设的停止条件\n",
    "\n",
    "- 时间复杂度 O(knT)\n",
    "\n",
    "- 为了鼓励长句子，每个候选的最终分数是：$\\frac{1}{L^\\alpha}\\log{p(y_1,y_2,\\cdots,y_L)}$（通常$\\alpha=0.75$）\n",
    "\n",
    "- $k=1$时是贪心搜索，$k=L$时是穷举搜索"
   ]
  }
 ],
 "metadata": {
  "language_info": {
   "name": "python"
  }
 },
 "nbformat": 4,
 "nbformat_minor": 2
}
