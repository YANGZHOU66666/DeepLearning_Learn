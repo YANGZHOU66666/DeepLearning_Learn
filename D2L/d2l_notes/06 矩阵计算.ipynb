{
 "cells": [
  {
   "cell_type": "markdown",
   "metadata": {},
   "source": [
    "# 06 矩阵计算\n",
    "\n",
    "### 标量求导\n",
    "\n",
    "略"
   ]
  },
  {
   "cell_type": "markdown",
   "metadata": {},
   "source": [
    "### 亚导数\n",
    "\n",
    "+ 将导数拓展到不可微的函数\n",
    "\n",
    "例：\n",
    "\n",
    "$$f(x) = max(x,0)$$\n",
    "\n",
    "$$f'(x) = \\begin{cases} 1 & x > 0 \\\\ 0 & x < 0 \\end{cases}$$\n",
    "\n",
    "$$当x=0时，f'(x)可为[0,1]之间的任意值$$"
   ]
  },
  {
   "cell_type": "markdown",
   "metadata": {},
   "source": [
    "### 梯度 —— 将导数拓展到向量\n",
    "\n",
    "1. 标量对向量求导\n",
    "$$ x_n = [x_1, x_2, \\cdots, x_n]^T $$\n",
    "$$ y是标量 $$\n",
    "$$ \\frac{\\partial y}{\\partial x_i} = [\\frac{\\partial y}{\\partial x_1}, \\frac{\\partial y}{\\partial x_2}, \\cdots, \\frac{\\partial y}{\\partial x_n}]^T $$\n",
    "\n",
    "例：\n",
    "$$ x = [x_1, x_2]^T $$\n",
    "$$ y = x_1^2 + 2x_2^2 $$\n",
    "$$ \\frac{\\partial}{\\partial x}{(x_1^2 + 2x_2^2)} = [2x_1, 4x_2] $$\n",
    "\n",
    "理解：\n",
    "$$ y = f(x_1, x_2) 是一个漏斗形状的方程，假设在(x_1,x_2)=(1,1)位置处，导数(2,4)与等高线正交$$\n",
    "![](./assets/partial.jpg)\n",
    "\n",
    "2. 向量对标量求导\n",
    "$$ y = [y_1, y_2, \\cdots, y_m]^T $$\n",
    "$$ x是标量 $$\n",
    "$$ \\frac{\\partial y}{\\partial x} = [\\frac{\\partial y_1}{\\partial x}, \\frac{\\partial y_2}{\\partial x}, \\cdots, \\frac{\\partial y_m}{\\partial x}]^T $$\n",
    "\n",
    "3. 向量对向量求导\n",
    "$$ x = [x_1, x_2, \\cdots, x_n]^T $$\n",
    "$$ y = [y_1, y_2, \\cdots, y_m]^T $$\n",
    "$$ \\frac{\\partial y}{\\partial x} = [\\frac{\\partial y_1}{\\partial x}, \\frac{\\partial y_2}{\\partial x}, \\cdots, \\frac{\\partial y_m}{\\partial x}]^T  = [[\\frac{\\partial y_1}{\\partial x_1}, \\frac{\\partial y_1}{\\partial x_2}, \\cdots, \\frac{\\partial y_1}{\\partial x_n}], [\\frac{\\partial y_2}{\\partial x_1}, \\frac{\\partial y_2}{\\partial x_2}, \\cdots, \\frac{\\partial y_2}{\\partial x_n}], \\cdots, [\\frac{\\partial y_m}{\\partial x_1}, \\frac{\\partial y_m}{\\partial x_2}, \\cdots, \\frac{\\partial y_m}{\\partial x_n}]] $$\n",
    "\n",
    "\n"
   ]
  }
 ],
 "metadata": {
  "language_info": {
   "name": "python"
  }
 },
 "nbformat": 4,
 "nbformat_minor": 2
}
