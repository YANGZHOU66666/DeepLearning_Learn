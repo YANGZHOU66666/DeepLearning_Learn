{
 "cells": [
  {
   "cell_type": "markdown",
   "metadata": {},
   "source": [
    "# 门控单元\n",
    "\n",
    "不是每个观察值都是同等重要\n",
    "\n",
    "想只记住相关的观察需要：\n",
    "\n",
    "1. 能关注的机制（更新门）\n",
    "\n",
    "2. 忘记不重要的观察值（重置门）"
   ]
  }
 ],
 "metadata": {
  "language_info": {
   "name": "python"
  }
 },
 "nbformat": 4,
 "nbformat_minor": 2
}
